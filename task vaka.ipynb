{
 "cells": [
  {
   "cell_type": "code",
   "execution_count": 1,
   "id": "f182f5e0",
   "metadata": {},
   "outputs": [
    {
     "name": "stdout",
     "output_type": "stream",
     "text": [
      "Monoisotopic mass of peptide precursor [M+2H]2+ is 389.26272398624207\n",
      "Monoisotopic m/z of [M+2H]2+ is 194.63136199312103\n"
     ]
    }
   ],
   "source": [
    "from pyopenms import *\n",
    "seq = AASequence.fromString(\"VAKA\") \n",
    "seq = AASequence.fromString(\"VAKA\")\n",
    "mz = seq.getMonoWeight(Residue.ResidueType.Full, 2) / 2.0\n",
    "mz = seq.getMZ(2)\n",
    "mprecursor = seq.getMonoWeight(Residue.ResidueType.Full, 2)\n",
    "print(\"Monoisotopic mass of peptide precursor [M+2H]2+ is\", mprecursor)\n",
    "print(\"Monoisotopic m/z of [M+2H]2+ is\", mz)"
   ]
  },
  {
   "cell_type": "code",
   "execution_count": 2,
   "id": "065aba43",
   "metadata": {},
   "outputs": [
    {
     "name": "stdout",
     "output_type": "stream",
     "text": [
      "The peptide VAKA consists of the following amino acids:\n",
      "Valine : 117.0789793509\n",
      "Alanine : 89.04767922330001\n",
      "Lysine : 146.1055284466\n",
      "Alanine : 89.04767922330001\n"
     ]
    }
   ],
   "source": [
    "seq = AASequence.fromString(\"VAKA\")\n",
    "\n",
    "print(\"The peptide\", str(seq), \"consists of the following amino acids:\")\n",
    "for aa in seq:\n",
    "    print(aa.getName(), \":\", aa.getMonoWeight())"
   ]
  },
  {
   "cell_type": "code",
   "execution_count": 3,
   "id": "e65f83cf",
   "metadata": {},
   "outputs": [
    {
     "name": "stdout",
     "output_type": "stream",
     "text": [
      "sum 441.2798662441\n",
      "Mass of sequence 389.26272398624207\n",
      "Mass of sequence 194.63136199312103\n"
     ]
    }
   ],
   "source": [
    "seq = AASequence.fromString(\"VAKA\")\n",
    "AASum = 0\n",
    "for aa in seq:\n",
    "    AASum += aa.getMonoWeight()\n",
    "    \n",
    "print(\"sum\",AASum)\n",
    "AAMass = seq.getMonoWeight(Residue.ResidueType.Full, 2)\n",
    "AAMass_MZ = seq.getMonoWeight(Residue.ResidueType.Full, 2)/2.0\n",
    "print(\"Mass of sequence\",AAMass)\n",
    "print(\"Mass of sequence\",AAMass_MZ)"
   ]
  },
  {
   "cell_type": "code",
   "execution_count": null,
   "id": "6bc25b20",
   "metadata": {},
   "outputs": [],
   "source": []
  }
 ],
 "metadata": {
  "kernelspec": {
   "display_name": "Python 3 (ipykernel)",
   "language": "python",
   "name": "python3"
  },
  "language_info": {
   "codemirror_mode": {
    "name": "ipython",
    "version": 3
   },
   "file_extension": ".py",
   "mimetype": "text/x-python",
   "name": "python",
   "nbconvert_exporter": "python",
   "pygments_lexer": "ipython3",
   "version": "3.9.7"
  }
 },
 "nbformat": 4,
 "nbformat_minor": 5
}
